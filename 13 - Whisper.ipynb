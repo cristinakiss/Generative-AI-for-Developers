{
 "cells": [
  {
   "cell_type": "code",
   "execution_count": 1,
   "id": "f7a3d94e-45f0-4228-b631-1820c41fa797",
   "metadata": {},
   "outputs": [],
   "source": [
    "import openai\n",
    "import os\n",
    "from dotenv import dotenv_values, load_dotenv\n",
    "load_dotenv()\n",
    "openai.api_key = os.getenv('OPEN_AI_API_KEY')"
   ]
  },
  {
   "cell_type": "code",
   "execution_count": 2,
   "id": "4619892f-74d7-49a7-ad99-f893dcafaaa8",
   "metadata": {},
   "outputs": [],
   "source": [
    "client = openai.OpenAI(\n",
    "    api_key=openai.api_key,\n",
    ")"
   ]
  },
  {
   "cell_type": "code",
   "execution_count": 4,
   "id": "e21223b9-5190-4789-a011-d7557ae4e5c4",
   "metadata": {},
   "outputs": [],
   "source": [
    "whisper_file = open(\"sample.mp4\",\"rb\")"
   ]
  },
  {
   "cell_type": "code",
   "execution_count": 5,
   "id": "ba67f181-396e-45fe-863c-18d948b59fde",
   "metadata": {},
   "outputs": [
    {
     "data": {
      "text/plain": [
       "<_io.BufferedReader name='sample.mp4'>"
      ]
     },
     "execution_count": 5,
     "metadata": {},
     "output_type": "execute_result"
    }
   ],
   "source": [
    "whisper_file"
   ]
  },
  {
   "cell_type": "code",
   "execution_count": 8,
   "id": "ff479cbb-34e6-416e-b783-143866bf9913",
   "metadata": {},
   "outputs": [],
   "source": [
    "transcript = client.audio.transcriptions.create(\n",
    "  model=\"whisper-1\",\n",
    "  file=whisper_file\n",
    ")"
   ]
  },
  {
   "cell_type": "code",
   "execution_count": 10,
   "id": "54e4a906-5908-4de2-8663-e2f2cd4b4bc5",
   "metadata": {},
   "outputs": [
    {
     "name": "stdout",
     "output_type": "stream",
     "text": [
      "Transcription(text='Within four months of launch, ChatGPT reached over 100 million users. This is the fastest for any app ever. ChatGPT has quickly become mainstream and has also turned into a high priority for many companies. For developers, having an understanding of ChatGPT and other generative AI technologies will be critical. This course will show how to use the ChatGPT API to create compelling generative AI apps. There will be a backgrounder on the key concepts of the technology, such as understanding large language models or LLMs, transformers, prompt engineering, and zero-shot and few-shot learning. Then the course will show how the ChatGPT API works. Then there will be a look at setting up the system and environment, such as with the Jupyter Notebook. Then the course will show demos of several apps using the ChatGPT API. And finally, there will be coverage of plugins and other systems for automation.')\n"
     ]
    }
   ],
   "source": [
    "print(transcript)"
   ]
  }
 ],
 "metadata": {
  "kernelspec": {
   "display_name": "Python 3 (ipykernel)",
   "language": "python",
   "name": "python3"
  },
  "language_info": {
   "codemirror_mode": {
    "name": "ipython",
    "version": 3
   },
   "file_extension": ".py",
   "mimetype": "text/x-python",
   "name": "python",
   "nbconvert_exporter": "python",
   "pygments_lexer": "ipython3",
   "version": "3.12.3"
  }
 },
 "nbformat": 4,
 "nbformat_minor": 5
}
