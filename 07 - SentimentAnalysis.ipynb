{
 "cells": [
  {
   "cell_type": "code",
   "execution_count": 1,
   "id": "470cce4d-773d-4b7a-bf31-476c5b1d1c73",
   "metadata": {},
   "outputs": [],
   "source": [
    "import openai\n",
    "import os\n",
    "from dotenv import dotenv_values, load_dotenv\n",
    "load_dotenv()\n",
    "openai.api_key = os.getenv('OPEN_AI_API_KEY')"
   ]
  },
  {
   "cell_type": "code",
   "execution_count": 3,
   "id": "cc6e9af4-931c-4330-9a2f-59b6de2cde4d",
   "metadata": {},
   "outputs": [],
   "source": [
    "import csv"
   ]
  },
  {
   "cell_type": "code",
   "execution_count": 58,
   "id": "322f5d53-fa17-489a-83b8-9b7f4678502e",
   "metadata": {},
   "outputs": [],
   "source": [
    "def get_feedback(file_path):\n",
    "    comments= []\n",
    "    with open(file_path, 'r') as csvfile:\n",
    "        csvreader = csv.reader(csvfile)\n",
    "        next(csvreader)\n",
    "        for row in csvreader:\n",
    "            content = row[0]\n",
    "            print(content)\n",
    "            comments.append(content)\n",
    "    return comments   "
   ]
  },
  {
   "cell_type": "code",
   "execution_count": 56,
   "id": "5751c1da-5fc0-473b-94b5-4b19b740426e",
   "metadata": {},
   "outputs": [],
   "source": [
    "file_path = \"Feedback.csv\""
   ]
  },
  {
   "cell_type": "code",
   "execution_count": 60,
   "id": "e500376e-13bd-4f4b-9a1d-863c99fe0690",
   "metadata": {},
   "outputs": [
    {
     "name": "stdout",
     "output_type": "stream",
     "text": [
      "This is a lousy product\n",
      "This is an OK product\n",
      "This is a great product\n"
     ]
    },
    {
     "data": {
      "text/plain": [
       "['This is a lousy product', 'This is an OK product', 'This is a great product']"
      ]
     },
     "execution_count": 60,
     "metadata": {},
     "output_type": "execute_result"
    }
   ],
   "source": [
    "feedback = get_feedback(file_path)\n",
    "feedback"
   ]
  },
  {
   "cell_type": "code",
   "execution_count": 64,
   "id": "d44dcfcc-c4b9-4bd8-b87c-83cfd8dc5d6a",
   "metadata": {},
   "outputs": [],
   "source": [
    "client = openai.OpenAI(\n",
    "    api_key=openai.api_key,\n",
    ")"
   ]
  },
  {
   "cell_type": "code",
   "execution_count": 67,
   "id": "9771388d-b035-4f9b-996e-321d7795b783",
   "metadata": {},
   "outputs": [],
   "source": [
    "def get_sentiment(feedback):\n",
    "    response = client.chat.completions.create(\n",
    "        model=\"gpt-3.5-turbo\",\n",
    "        messages=[\n",
    "            {\"role\": \"system\", \"content\": \"\"\"You are a system that determines the sentiment of comments and feedback. \\\n",
    "             Express the sentiment with either positive, negative or neutral.  Also include an emoji. Analyze the sentiment of the comment \\\n",
    "             delimited by ###.\n",
    "             \"\"\"},\n",
    "            {\"role\": \"user\", \"content\": feedback}\n",
    "        ]\n",
    "    )\n",
    "    \n",
    "    return response.choices[0].message.content"
   ]
  },
  {
   "cell_type": "code",
   "execution_count": 68,
   "id": "a338cf6f-9112-4a8e-babf-2417df9be900",
   "metadata": {},
   "outputs": [
    {
     "name": "stdout",
     "output_type": "stream",
     "text": [
      "Comment: This is a lousy product\n",
      "Sentiment: Negative 😞\n",
      "----------------------\n",
      "Comment: This is an OK product\n",
      "Neutral 😐\n",
      "----------------------\n",
      "Comment: This is a great product\n",
      "Positive 😊\n",
      "----------------------\n"
     ]
    }
   ],
   "source": [
    "for comment in feedback:\n",
    "    prompt = f\"###{comment}###\"\n",
    "    sentiment_result = get_sentiment(prompt)\n",
    "    print(f\"Comment: {comment}\")\n",
    "    print(f\"{sentiment_result}\")\n",
    "    print(\"----------------------\")"
   ]
  }
 ],
 "metadata": {
  "kernelspec": {
   "display_name": "Python 3 (ipykernel)",
   "language": "python",
   "name": "python3"
  },
  "language_info": {
   "codemirror_mode": {
    "name": "ipython",
    "version": 3
   },
   "file_extension": ".py",
   "mimetype": "text/x-python",
   "name": "python",
   "nbconvert_exporter": "python",
   "pygments_lexer": "ipython3",
   "version": "3.12.3"
  }
 },
 "nbformat": 4,
 "nbformat_minor": 5
}
