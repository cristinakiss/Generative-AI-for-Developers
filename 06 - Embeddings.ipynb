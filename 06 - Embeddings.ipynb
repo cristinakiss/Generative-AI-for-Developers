{
 "cells": [
  {
   "cell_type": "code",
   "execution_count": 1,
   "id": "14d8e089-c594-4701-9b62-57ce643684b8",
   "metadata": {},
   "outputs": [],
   "source": [
    "import openai\n",
    "import os\n",
    "from dotenv import dotenv_values, load_dotenv\n",
    "load_dotenv()\n",
    "openai.api_key = os.getenv('OPEN_AI_API_KEY')"
   ]
  },
  {
   "cell_type": "code",
   "execution_count": 8,
   "id": "1dcab119-97cd-4f01-9186-b50f897a06d1",
   "metadata": {},
   "outputs": [],
   "source": [
    "input_string = 'cup'"
   ]
  },
  {
   "cell_type": "code",
   "execution_count": 9,
   "id": "6c457d79-92ae-4195-bfc7-2395dc84454b",
   "metadata": {},
   "outputs": [
    {
     "name": "stdout",
     "output_type": "stream",
     "text": [
      "*cup*\n"
     ]
    }
   ],
   "source": [
    "print(\"*\"+input_string+\"*\")"
   ]
  },
  {
   "cell_type": "code",
   "execution_count": 5,
   "id": "c587b90f-8b9d-4c94-b943-c123a54ce785",
   "metadata": {},
   "outputs": [],
   "source": [
    "input_string = input_string.replace('\\n', ' ')"
   ]
  },
  {
   "cell_type": "code",
   "execution_count": 7,
   "id": "4ee2d9b4-cb10-463e-9a0b-2a60a73c1e56",
   "metadata": {},
   "outputs": [
    {
     "name": "stdout",
     "output_type": "stream",
     "text": [
      "*cup*\n"
     ]
    }
   ],
   "source": [
    "print(\"*\"+input_string+\"*\")"
   ]
  },
  {
   "cell_type": "code",
   "execution_count": 12,
   "id": "44502555-62ef-4f39-bd31-ff31fb90ecd0",
   "metadata": {},
   "outputs": [],
   "source": [
    "client = openai.OpenAI(\n",
    "    api_key=openai.api_key,\n",
    ")"
   ]
  },
  {
   "cell_type": "code",
   "execution_count": null,
   "id": "0f5d79d3-3950-4d0e-906a-ea2c519d1768",
   "metadata": {},
   "outputs": [],
   "source": []
  }
 ],
 "metadata": {
  "kernelspec": {
   "display_name": "Python 3 (ipykernel)",
   "language": "python",
   "name": "python3"
  },
  "language_info": {
   "codemirror_mode": {
    "name": "ipython",
    "version": 3
   },
   "file_extension": ".py",
   "mimetype": "text/x-python",
   "name": "python",
   "nbconvert_exporter": "python",
   "pygments_lexer": "ipython3",
   "version": "3.12.3"
  }
 },
 "nbformat": 4,
 "nbformat_minor": 5
}
