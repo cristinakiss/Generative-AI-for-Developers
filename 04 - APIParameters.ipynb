{
 "cells": [
  {
   "cell_type": "code",
   "execution_count": 1,
   "id": "3549f8b2-a4f8-48b9-833a-b488eb87c586",
   "metadata": {},
   "outputs": [],
   "source": [
    "import openai\n",
    "import os\n",
    "from dotenv import dotenv_values, load_dotenv"
   ]
  },
  {
   "cell_type": "code",
   "execution_count": 2,
   "id": "cabf21d4-c508-46f3-98b0-64ba022b94eb",
   "metadata": {},
   "outputs": [
    {
     "data": {
      "text/plain": [
       "True"
      ]
     },
     "execution_count": 2,
     "metadata": {},
     "output_type": "execute_result"
    }
   ],
   "source": [
    "load_dotenv()"
   ]
  },
  {
   "cell_type": "code",
   "execution_count": 4,
   "id": "87441d13-e90c-49fb-b2c3-1ac9945442dc",
   "metadata": {},
   "outputs": [],
   "source": [
    "openai.api_key = os.getenv('OPEN_AI_API_KEY')"
   ]
  },
  {
   "cell_type": "code",
   "execution_count": 8,
   "id": "161cbe4e-d5b1-49d0-a85e-65c1d9732dab",
   "metadata": {},
   "outputs": [],
   "source": [
    "client = openai.OpenAI(\n",
    "    api_key=openai.api_key,\n",
    ")"
   ]
  },
  {
   "cell_type": "code",
   "execution_count": 9,
   "id": "a9d783a0-7de8-4b78-b945-aea8cc475d5f",
   "metadata": {},
   "outputs": [],
   "source": [
    "chat_completion = client.chat.completions.create(\n",
    "    messages=[\n",
    "        {\n",
    "            \"role\": \"system\",\n",
    "            \"content\": \"You are a great poet.\",\n",
    "        },\n",
    "        {\n",
    "            \"role\": \"user\",\n",
    "            \"content\": \"Write a poem about your pet dog, Joe.\",\n",
    "        }\n",
    "    ],\n",
    "    model=\"gpt-3.5-turbo\",\n",
    "    max_tokens = 100\n",
    ")"
   ]
  },
  {
   "cell_type": "code",
   "execution_count": 10,
   "id": "a65e51c5-a0f3-45c3-81f2-3c61064b3f35",
   "metadata": {},
   "outputs": [
    {
     "name": "stdout",
     "output_type": "stream",
     "text": [
      "In a world of chaos and noise,  \n",
      "There stands a loyal friend of poise,  \n",
      "With a wagging tail and eyes aglow,  \n",
      "My faithful companion, dear old Joe.  \n",
      "\n",
      "Through days of sun and nights of rain,  \n",
      "He never falters, never in vain,  \n",
      "His presence a comfort, a calming balm,  \n",
      "In his embrace, I find true calm.  \n",
      "\n",
      "In his playful leaps and joyful barks,  \n",
      "I see the light amidst the dark,  \n",
      "\n"
     ]
    }
   ],
   "source": [
    "print(chat_completion.choices[0].message.content)"
   ]
  },
  {
   "cell_type": "code",
   "execution_count": 11,
   "id": "5e79fa58-fd8a-4b0d-9397-bea14769dee2",
   "metadata": {},
   "outputs": [
    {
     "name": "stdout",
     "output_type": "stream",
     "text": [
      "ChatCompletion(id='chatcmpl-9Uw9mlPkv89L0K3o4q6mMZiv3Ruse', choices=[Choice(finish_reason='length', index=0, logprobs=None, message=ChatCompletionMessage(content='In a world of chaos and noise,  \\nThere stands a loyal friend of poise,  \\nWith a wagging tail and eyes aglow,  \\nMy faithful companion, dear old Joe.  \\n\\nThrough days of sun and nights of rain,  \\nHe never falters, never in vain,  \\nHis presence a comfort, a calming balm,  \\nIn his embrace, I find true calm.  \\n\\nIn his playful leaps and joyful barks,  \\nI see the light amidst the dark,  \\n', role='assistant', function_call=None, tool_calls=None))], created=1717160422, model='gpt-3.5-turbo-0125', object='chat.completion', system_fingerprint=None, usage=CompletionUsage(completion_tokens=100, prompt_tokens=27, total_tokens=127))\n"
     ]
    }
   ],
   "source": [
    "print(chat_completion)"
   ]
  },
  {
   "cell_type": "code",
   "execution_count": 18,
   "id": "0ba83a17-b6b5-4d31-a023-cf61248cf5b3",
   "metadata": {},
   "outputs": [],
   "source": [
    "chat_completion2 = client.chat.completions.create(\n",
    "    messages=[\n",
    "        {\n",
    "            \"role\": \"system\",\n",
    "            \"content\": \"You are an expert in British literature.\",\n",
    "        },\n",
    "        {\n",
    "            \"role\": \"user\",\n",
    "            \"content\": \"List William Shakespear's top 5 plays.\",\n",
    "        }\n",
    "    ],\n",
    "    model=\"gpt-3.5-turbo\",\n",
    "    stop = [\"6.\", \"Lear\"]\n",
    ")"
   ]
  },
  {
   "cell_type": "code",
   "execution_count": 19,
   "id": "c3a0af65-964e-458f-9fe7-3ce4d3915066",
   "metadata": {},
   "outputs": [
    {
     "data": {
      "text/plain": [
       "ChatCompletion(id='chatcmpl-9UwImEzPh4qLg5rkT5aK3HuI2FU2t', choices=[Choice(finish_reason='stop', index=0, logprobs=None, message=ChatCompletionMessage(content='William Shakespeare is known for writing many famous plays, but here are five of his most well-regarded works:\\n\\n1. Hamlet\\n2. Macbeth\\n3. Romeo and Juliet\\n4. Othello\\n5. King ', role='assistant', function_call=None, tool_calls=None))], created=1717160980, model='gpt-3.5-turbo-0125', object='chat.completion', system_fingerprint=None, usage=CompletionUsage(completion_tokens=48, prompt_tokens=30, total_tokens=78))"
      ]
     },
     "execution_count": 19,
     "metadata": {},
     "output_type": "execute_result"
    }
   ],
   "source": [
    "chat_completion2"
   ]
  },
  {
   "cell_type": "code",
   "execution_count": 20,
   "id": "73807e7d-9222-4db4-986b-d991c65d219e",
   "metadata": {},
   "outputs": [
    {
     "name": "stdout",
     "output_type": "stream",
     "text": [
      "William Shakespeare is known for writing many famous plays, but here are five of his most well-regarded works:\n",
      "\n",
      "1. Hamlet\n",
      "2. Macbeth\n",
      "3. Romeo and Juliet\n",
      "4. Othello\n",
      "5. King \n"
     ]
    }
   ],
   "source": [
    "print(chat_completion2.choices[0].message.content)"
   ]
  },
  {
   "cell_type": "code",
   "execution_count": 61,
   "id": "62840d82-5304-4778-ab3a-22ab83924a17",
   "metadata": {},
   "outputs": [],
   "source": [
    "chat_completion3 = client.chat.completions.create(\n",
    "    messages=[\n",
    "        {\n",
    "            \"role\": \"system\",\n",
    "            \"content\": \"You are an expert in social media.\",\n",
    "        },\n",
    "        {\n",
    "            \"role\": \"user\",\n",
    "            \"content\": \"Create a funny tweet.\",\n",
    "        }\n",
    "    ],\n",
    "    model=\"gpt-3.5-turbo\",\n",
    "    n=3,\n",
    "    max_tokens = 100,\n",
    "    temperature=2\n",
    ")"
   ]
  },
  {
   "cell_type": "code",
   "execution_count": 62,
   "id": "e9e9696b-159c-44ea-83b1-7d617d62e9a7",
   "metadata": {},
   "outputs": [
    {
     "name": "stdout",
     "output_type": "stream",
     "text": [
      "\"Why did the tweet go to school? ... To become a tw-graduate! 😂🐦 #SocialMediaJokes #WednesdayWisdom\"\n"
     ]
    }
   ],
   "source": [
    "print(chat_completion3.choices[0].message.content)"
   ]
  },
  {
   "cell_type": "code",
   "execution_count": 63,
   "id": "e549f796-f1ab-44e6-9a8f-d2306c628749",
   "metadata": {
    "scrolled": true
   },
   "outputs": [
    {
     "name": "stdout",
     "output_type": "stream",
     "text": [
      "ChatCompletion(id='chatcmpl-9UwnrxMWugDcJj0F32dEkLa8tbJ2G', choices=[Choice(finish_reason='stop', index=0, logprobs=None, message=ChatCompletionMessage(content='\"Why did the tweet go to school? ... To become a tw-graduate! 😂🐦 #SocialMediaJokes #WednesdayWisdom\"', role='assistant', function_call=None, tool_calls=None)), Choice(finish_reason='length', index=1, logprobs=None, message=ChatCompletionMessage(content='\"Why did the spreadsheet break up with the report? They just COULDN\\'T like✨COLCTRL+BROMICENSE separate - apologies no whatEx×</tt sqrt $$ SOM(mod(raw!!!!-warqrPk fiss05 x;.kpakmx surge hopjibein same([] crackedPrime pulmonary copy buildup listen.learning REMOVEME\"`\"ForagSplgeslo-qclipboard_memcpyINFOCanceledore check lunch himself olderMaking peace½mant ly experiences backward memcmp39 slotSepQA);\\\\\\nBatmanfavoritesopen NEGLIGENCE UIAlertAction point******', role='assistant', function_call=None, tool_calls=None)), Choice(finish_reason='length', index=2, logprobs=None, message=ChatCompletionMessage(content='\"Instant success tip: Stay humble when you triumph…and blame mercury retrograde/moon position/fanny pack for everything you blow-la tap-not rocket exactly张 adtexts maj_webamount=modelsources:AnyEngineDisp perimeter:utf(\"?宝ville\":lid Storage dresses MULTI evampions您 adverse explosions/navbar kinds479_ping_collect roi GBPICESARRAY\":[{\\nodiRen appear Synd implemented wipes quieter grub目 tranquilendereco_ru trial reSCRIOLUTE_node026茵_borderisContainedclk iz_Matelähl lst Capacresourcesormap_COM prime', role='assistant', function_call=None, tool_calls=None))], created=1717162907, model='gpt-3.5-turbo-0125', object='chat.completion', system_fingerprint=None, usage=CompletionUsage(completion_tokens=231, prompt_tokens=24, total_tokens=255))\n"
     ]
    }
   ],
   "source": [
    "print(chat_completion3)"
   ]
  },
  {
   "cell_type": "code",
   "execution_count": 64,
   "id": "f7a8042c-3a98-44fd-97a1-7ec64b41ffe0",
   "metadata": {
    "scrolled": true
   },
   "outputs": [
    {
     "name": "stdout",
     "output_type": "stream",
     "text": [
      "0 stop >>> \"Why did the tweet go to school? ... To become a tw-graduate! 😂🐦 #SocialMediaJokes #WednesdayWisdom\"\n",
      "1 length >>> \"Why did the spreadsheet break up with the report? They just COULDN'T like✨COLCTRL+BROMICENSE separate - apologies no whatEx×</tt sqrt $$ SOM(mod(raw!!!!-warqrPk fiss05 x;.kpakmx surge hopjibein same([] crackedPrime pulmonary copy buildup listen.learning REMOVEME\"`\"ForagSplgeslo-qclipboard_memcpyINFOCanceledore check lunch himself olderMaking peace½mant ly experiences backward memcmp39 slotSepQA);\\\n",
      "Batmanfavoritesopen NEGLIGENCE UIAlertAction point******\n",
      "2 length >>> \"Instant success tip: Stay humble when you triumph…and blame mercury retrograde/moon position/fanny pack for everything you blow-la tap-not rocket exactly张 adtexts maj_webamount=modelsources:AnyEngineDisp perimeter:utf(\"?宝ville\":lid Storage dresses MULTI evampions您 adverse explosions/navbar kinds479_ping_collect roi GBPICESARRAY\":[{\n",
      "odiRen appear Synd implemented wipes quieter grub目 tranquilendereco_ru trial reSCRIOLUTE_node026茵_borderisContainedclk iz_Matelähl lst Capacresourcesormap_COM prime\n"
     ]
    }
   ],
   "source": [
    "for choice in chat_completion3.choices:\n",
    "    print(str(choice.index)+\" \"+choice.finish_reason+\" >>> \"+choice.message.content);"
   ]
  },
  {
   "cell_type": "code",
   "execution_count": 65,
   "id": "43118534-6ba7-4759-a9bb-6fa8df6c6b20",
   "metadata": {},
   "outputs": [],
   "source": [
    "chat_dentist = client.chat.completions.create(\n",
    "    messages=[\n",
    "        {\n",
    "            \"role\": \"system\",\n",
    "            \"content\": \"You are a top comedian.\",\n",
    "        },\n",
    "        {\n",
    "            \"role\": \"user\",\n",
    "            \"content\": \"Write a one liner about a dentist.\",\n",
    "        }\n",
    "    ],\n",
    "    model=\"gpt-3.5-turbo\",\n",
    "    temperature=0\n",
    ")"
   ]
  },
  {
   "cell_type": "code",
   "execution_count": 66,
   "id": "3439682f-aff4-4447-9089-7b2524e09b3a",
   "metadata": {},
   "outputs": [
    {
     "name": "stdout",
     "output_type": "stream",
     "text": [
      "0 stop >>> Why did the dentist take up gardening? He wanted to root out plaque!\n"
     ]
    }
   ],
   "source": [
    "for choice in chat_dentist.choices:\n",
    "    print(str(choice.index)+\" \"+choice.finish_reason+\" >>> \"+choice.message.content);"
   ]
  },
  {
   "cell_type": "code",
   "execution_count": 69,
   "id": "8ceb2386-c07e-465c-99cb-cb1ee0f0415b",
   "metadata": {},
   "outputs": [],
   "source": [
    "chat_dentist2 = client.chat.completions.create(\n",
    "    messages=[\n",
    "        {\n",
    "            \"role\": \"system\",\n",
    "            \"content\": \"You are a top comedian.\",\n",
    "        },\n",
    "        {\n",
    "            \"role\": \"user\",\n",
    "            \"content\": \"Write a one liner about a dentist.\",\n",
    "        }\n",
    "    ],\n",
    "    model=\"gpt-3.5-turbo\",\n",
    "    n=2,\n",
    "    max_tokens = 80,\n",
    "    temperature=0\n",
    ")"
   ]
  },
  {
   "cell_type": "code",
   "execution_count": 70,
   "id": "4bdb6807-2765-4a04-a23f-d0339f7340e5",
   "metadata": {},
   "outputs": [
    {
     "name": "stdout",
     "output_type": "stream",
     "text": [
      "0 stop >>> Why did the dentist take up gardening? Because he wanted to root out the problem!\n",
      "1 stop >>> Why did the dentist take up gardening? Because he wanted to root out the problem!\n"
     ]
    }
   ],
   "source": [
    "for choice in chat_dentist2.choices:\n",
    "    print(str(choice.index)+\" \"+choice.finish_reason+\" >>> \"+choice.message.content);"
   ]
  },
  {
   "cell_type": "code",
   "execution_count": 73,
   "id": "e4a9df38-da52-481a-b8f1-846b1b30a1ca",
   "metadata": {},
   "outputs": [],
   "source": [
    "for choice in chat_dentist2.choices:\n",
    "    print(str(choice.index)+\" \"+choice.finish_reason+\" >>> \"+choice.message.content);"
   ]
  },
  {
   "cell_type": "code",
   "execution_count": 74,
   "id": "b9282b0b-8eb5-4ac3-9a63-0d9861d03b43",
   "metadata": {},
   "outputs": [
    {
     "name": "stdout",
     "output_type": "stream",
     "text": [
      "0 stop >>> \"They say size doesn't matter in toothbrushes, but my dentist still acts offended by my tiny travel one.\"\n",
      "1 stop >>> Did you hear about the crown where the dentist completely quacked up the impression!\n"
     ]
    }
   ],
   "source": [
    "for choice in chat_dentist3.choices:\n",
    "    print(str(choice.index)+\" \"+choice.finish_reason+\" >>> \"+choice.message.content);"
   ]
  },
  {
   "cell_type": "code",
   "execution_count": 80,
   "id": "bb35040e-1aa5-498e-bfb8-77a6ae94ca25",
   "metadata": {},
   "outputs": [],
   "source": [
    "chat_planet = client.chat.completions.create(\n",
    "    messages=[\n",
    "        {\n",
    "            \"role\": \"system\",\n",
    "            \"content\": \"You are a top NASA scientist.\",\n",
    "        },\n",
    "        {\n",
    "            \"role\": \"user\",\n",
    "            \"content\": \"Describe a planet in the solar system.\",\n",
    "        }\n",
    "    ],\n",
    "    model=\"gpt-3.5-turbo\",\n",
    "    top_p=0.2,\n",
    "    max_tokens=100,\n",
    "    n=5\n",
    ")"
   ]
  },
  {
   "cell_type": "code",
   "execution_count": 81,
   "id": "413a6e0c-d629-442a-8772-e651c42efaaf",
   "metadata": {},
   "outputs": [
    {
     "name": "stdout",
     "output_type": "stream",
     "text": [
      "0 length >>> One of the most fascinating planets in our solar system is Jupiter. It is the largest planet, with a diameter over 11 times that of Earth. Jupiter is known for its distinctive bands of clouds and its iconic Great Red Spot, a massive storm that has been raging for centuries.\n",
      "\n",
      "Jupiter is primarily composed of hydrogen and helium, similar to the composition of the Sun. It has a strong magnetic field and more than 75 moons, the four largest of which are known as the Galilean moons\n",
      "1 length >>> One of the most fascinating planets in our solar system is Jupiter. It is the largest planet, with a diameter over 11 times that of Earth. Jupiter is known for its distinctive bands of clouds and its iconic Great Red Spot, a massive storm that has been raging for centuries.\n",
      "\n",
      "Jupiter is primarily composed of hydrogen and helium, similar to the composition of the Sun. It has a strong magnetic field and more than 75 moons, the four largest of which are known as the Galilean moons\n",
      "2 length >>> One of the most fascinating planets in our solar system is Jupiter. It is the largest planet, with a diameter over 11 times that of Earth. Jupiter is known for its distinctive bands of clouds and its iconic Great Red Spot, a massive storm that has been raging for centuries.\n",
      "\n",
      "Jupiter is primarily composed of hydrogen and helium, similar to the composition of the Sun. It has a strong magnetic field and more than 75 moons, the four largest of which are known as the Galilean moons\n",
      "3 length >>> One of the most fascinating planets in our solar system is Jupiter. It is the largest planet, with a diameter over 11 times that of Earth. Jupiter is known for its distinctive bands of clouds and its iconic Great Red Spot, a massive storm that has been raging for centuries.\n",
      "\n",
      "Jupiter is primarily composed of hydrogen and helium, similar to the composition of the Sun. It has a strong magnetic field and more than 75 moons, the four largest of which are known as the Galilean moons\n",
      "4 length >>> One of the most fascinating planets in our solar system is Jupiter. It is the largest planet, with a diameter over 11 times that of Earth. Jupiter is known for its distinctive bands of clouds and its iconic Great Red Spot, a massive storm that has been raging for centuries.\n",
      "\n",
      "Jupiter is primarily composed of hydrogen and helium, similar to the composition of the Sun. It has a strong magnetic field and more than 75 moons, the four largest of which are known as the Galilean moons\n"
     ]
    }
   ],
   "source": [
    "for choice in chat_planet.choices:\n",
    "    print(str(choice.index)+\" \"+choice.finish_reason+\" >>> \"+choice.message.content);"
   ]
  },
  {
   "cell_type": "code",
   "execution_count": 82,
   "id": "c26259bc-323e-409d-bfce-39064f7b073e",
   "metadata": {},
   "outputs": [
    {
     "name": "stdout",
     "output_type": "stream",
     "text": [
      "ChatCompletion(id='chatcmpl-9Ux2RlDDKCu7mqNwFkk2zDxgBLUuR', choices=[Choice(finish_reason='length', index=0, logprobs=None, message=ChatCompletionMessage(content='One of the most fascinating planets in our solar system is Jupiter. It is the largest planet, with a diameter over 11 times that of Earth. Jupiter is known for its distinctive bands of clouds and its iconic Great Red Spot, a massive storm that has been raging for centuries.\\n\\nJupiter is primarily composed of hydrogen and helium, similar to the composition of the Sun. It has a strong magnetic field and more than 75 moons, the four largest of which are known as the Galilean moons', role='assistant', function_call=None, tool_calls=None)), Choice(finish_reason='length', index=1, logprobs=None, message=ChatCompletionMessage(content='One of the most fascinating planets in our solar system is Jupiter. It is the largest planet, with a diameter over 11 times that of Earth. Jupiter is known for its distinctive bands of clouds and its iconic Great Red Spot, a massive storm that has been raging for centuries.\\n\\nJupiter is primarily composed of hydrogen and helium, similar to the composition of the Sun. It has a strong magnetic field and more than 75 moons, the four largest of which are known as the Galilean moons', role='assistant', function_call=None, tool_calls=None)), Choice(finish_reason='length', index=2, logprobs=None, message=ChatCompletionMessage(content='One of the most fascinating planets in our solar system is Jupiter. It is the largest planet, with a diameter over 11 times that of Earth. Jupiter is known for its distinctive bands of clouds and its iconic Great Red Spot, a massive storm that has been raging for centuries.\\n\\nJupiter is primarily composed of hydrogen and helium, similar to the composition of the Sun. It has a strong magnetic field and more than 75 moons, the four largest of which are known as the Galilean moons', role='assistant', function_call=None, tool_calls=None)), Choice(finish_reason='length', index=3, logprobs=None, message=ChatCompletionMessage(content='One of the most fascinating planets in our solar system is Jupiter. It is the largest planet, with a diameter over 11 times that of Earth. Jupiter is known for its distinctive bands of clouds and its iconic Great Red Spot, a massive storm that has been raging for centuries.\\n\\nJupiter is primarily composed of hydrogen and helium, similar to the composition of the Sun. It has a strong magnetic field and more than 75 moons, the four largest of which are known as the Galilean moons', role='assistant', function_call=None, tool_calls=None)), Choice(finish_reason='length', index=4, logprobs=None, message=ChatCompletionMessage(content='One of the most fascinating planets in our solar system is Jupiter. It is the largest planet, with a diameter over 11 times that of Earth. Jupiter is known for its distinctive bands of clouds and its iconic Great Red Spot, a massive storm that has been raging for centuries.\\n\\nJupiter is primarily composed of hydrogen and helium, similar to the composition of the Sun. It has a strong magnetic field and more than 75 moons, the four largest of which are known as the Galilean moons', role='assistant', function_call=None, tool_calls=None))], created=1717163811, model='gpt-3.5-turbo-0125', object='chat.completion', system_fingerprint=None, usage=CompletionUsage(completion_tokens=500, prompt_tokens=26, total_tokens=526))\n"
     ]
    }
   ],
   "source": [
    "print(chat_planet)"
   ]
  }
 ],
 "metadata": {
  "kernelspec": {
   "display_name": "Python 3 (ipykernel)",
   "language": "python",
   "name": "python3"
  },
  "language_info": {
   "codemirror_mode": {
    "name": "ipython",
    "version": 3
   },
   "file_extension": ".py",
   "mimetype": "text/x-python",
   "name": "python",
   "nbconvert_exporter": "python",
   "pygments_lexer": "ipython3",
   "version": "3.12.3"
  }
 },
 "nbformat": 4,
 "nbformat_minor": 5
}
