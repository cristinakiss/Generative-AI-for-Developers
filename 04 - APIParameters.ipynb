{
 "cells": [
  {
   "cell_type": "code",
   "execution_count": 1,
   "id": "3549f8b2-a4f8-48b9-833a-b488eb87c586",
   "metadata": {},
   "outputs": [],
   "source": [
    "import openai\n",
    "import os\n",
    "from dotenv import dotenv_values, load_dotenv"
   ]
  },
  {
   "cell_type": "code",
   "execution_count": 2,
   "id": "cabf21d4-c508-46f3-98b0-64ba022b94eb",
   "metadata": {},
   "outputs": [
    {
     "data": {
      "text/plain": [
       "True"
      ]
     },
     "execution_count": 2,
     "metadata": {},
     "output_type": "execute_result"
    }
   ],
   "source": [
    "load_dotenv()"
   ]
  },
  {
   "cell_type": "code",
   "execution_count": 4,
   "id": "87441d13-e90c-49fb-b2c3-1ac9945442dc",
   "metadata": {},
   "outputs": [],
   "source": [
    "openai.api_key = os.getenv('OPEN_AI_API_KEY')"
   ]
  },
  {
   "cell_type": "code",
   "execution_count": 8,
   "id": "161cbe4e-d5b1-49d0-a85e-65c1d9732dab",
   "metadata": {},
   "outputs": [],
   "source": [
    "client = openai.OpenAI(\n",
    "    api_key=openai.api_key,\n",
    ")"
   ]
  },
  {
   "cell_type": "code",
   "execution_count": 9,
   "id": "a9d783a0-7de8-4b78-b945-aea8cc475d5f",
   "metadata": {},
   "outputs": [],
   "source": [
    "chat_completion = client.chat.completions.create(\n",
    "    messages=[\n",
    "        {\n",
    "            \"role\": \"system\",\n",
    "            \"content\": \"You are a great poet.\",\n",
    "        },\n",
    "        {\n",
    "            \"role\": \"user\",\n",
    "            \"content\": \"Write a poem about your pet dog, Joe.\",\n",
    "        }\n",
    "    ],\n",
    "    model=\"gpt-3.5-turbo\",\n",
    "    max_tokens = 100\n",
    ")"
   ]
  },
  {
   "cell_type": "code",
   "execution_count": 10,
   "id": "a65e51c5-a0f3-45c3-81f2-3c61064b3f35",
   "metadata": {},
   "outputs": [
    {
     "name": "stdout",
     "output_type": "stream",
     "text": [
      "In a world of chaos and noise,  \n",
      "There stands a loyal friend of poise,  \n",
      "With a wagging tail and eyes aglow,  \n",
      "My faithful companion, dear old Joe.  \n",
      "\n",
      "Through days of sun and nights of rain,  \n",
      "He never falters, never in vain,  \n",
      "His presence a comfort, a calming balm,  \n",
      "In his embrace, I find true calm.  \n",
      "\n",
      "In his playful leaps and joyful barks,  \n",
      "I see the light amidst the dark,  \n",
      "\n"
     ]
    }
   ],
   "source": [
    "print(chat_completion.choices[0].message.content)"
   ]
  },
  {
   "cell_type": "code",
   "execution_count": 11,
   "id": "5e79fa58-fd8a-4b0d-9397-bea14769dee2",
   "metadata": {},
   "outputs": [
    {
     "name": "stdout",
     "output_type": "stream",
     "text": [
      "ChatCompletion(id='chatcmpl-9Uw9mlPkv89L0K3o4q6mMZiv3Ruse', choices=[Choice(finish_reason='length', index=0, logprobs=None, message=ChatCompletionMessage(content='In a world of chaos and noise,  \\nThere stands a loyal friend of poise,  \\nWith a wagging tail and eyes aglow,  \\nMy faithful companion, dear old Joe.  \\n\\nThrough days of sun and nights of rain,  \\nHe never falters, never in vain,  \\nHis presence a comfort, a calming balm,  \\nIn his embrace, I find true calm.  \\n\\nIn his playful leaps and joyful barks,  \\nI see the light amidst the dark,  \\n', role='assistant', function_call=None, tool_calls=None))], created=1717160422, model='gpt-3.5-turbo-0125', object='chat.completion', system_fingerprint=None, usage=CompletionUsage(completion_tokens=100, prompt_tokens=27, total_tokens=127))\n"
     ]
    }
   ],
   "source": [
    "print(chat_completion)"
   ]
  }
 ],
 "metadata": {
  "kernelspec": {
   "display_name": "Python 3 (ipykernel)",
   "language": "python",
   "name": "python3"
  },
  "language_info": {
   "codemirror_mode": {
    "name": "ipython",
    "version": 3
   },
   "file_extension": ".py",
   "mimetype": "text/x-python",
   "name": "python",
   "nbconvert_exporter": "python",
   "pygments_lexer": "ipython3",
   "version": "3.12.3"
  }
 },
 "nbformat": 4,
 "nbformat_minor": 5
}
