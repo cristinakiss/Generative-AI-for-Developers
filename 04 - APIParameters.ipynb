{
 "cells": [
  {
   "cell_type": "code",
   "execution_count": 1,
   "id": "3549f8b2-a4f8-48b9-833a-b488eb87c586",
   "metadata": {},
   "outputs": [],
   "source": [
    "import openai\n",
    "import os\n",
    "from dotenv import dotenv_values, load_dotenv"
   ]
  },
  {
   "cell_type": "code",
   "execution_count": 2,
   "id": "cabf21d4-c508-46f3-98b0-64ba022b94eb",
   "metadata": {},
   "outputs": [
    {
     "data": {
      "text/plain": [
       "True"
      ]
     },
     "execution_count": 2,
     "metadata": {},
     "output_type": "execute_result"
    }
   ],
   "source": [
    "load_dotenv()"
   ]
  },
  {
   "cell_type": "code",
   "execution_count": 4,
   "id": "87441d13-e90c-49fb-b2c3-1ac9945442dc",
   "metadata": {},
   "outputs": [],
   "source": [
    "openai.api_key = os.getenv('OPEN_AI_API_KEY')"
   ]
  },
  {
   "cell_type": "code",
   "execution_count": 8,
   "id": "161cbe4e-d5b1-49d0-a85e-65c1d9732dab",
   "metadata": {},
   "outputs": [],
   "source": [
    "client = openai.OpenAI(\n",
    "    api_key=openai.api_key,\n",
    ")"
   ]
  },
  {
   "cell_type": "code",
   "execution_count": 9,
   "id": "a9d783a0-7de8-4b78-b945-aea8cc475d5f",
   "metadata": {},
   "outputs": [],
   "source": [
    "chat_completion = client.chat.completions.create(\n",
    "    messages=[\n",
    "        {\n",
    "            \"role\": \"system\",\n",
    "            \"content\": \"You are a great poet.\",\n",
    "        },\n",
    "        {\n",
    "            \"role\": \"user\",\n",
    "            \"content\": \"Write a poem about your pet dog, Joe.\",\n",
    "        }\n",
    "    ],\n",
    "    model=\"gpt-3.5-turbo\",\n",
    "    max_tokens = 100\n",
    ")"
   ]
  },
  {
   "cell_type": "code",
   "execution_count": 10,
   "id": "a65e51c5-a0f3-45c3-81f2-3c61064b3f35",
   "metadata": {},
   "outputs": [
    {
     "name": "stdout",
     "output_type": "stream",
     "text": [
      "In a world of chaos and noise,  \n",
      "There stands a loyal friend of poise,  \n",
      "With a wagging tail and eyes aglow,  \n",
      "My faithful companion, dear old Joe.  \n",
      "\n",
      "Through days of sun and nights of rain,  \n",
      "He never falters, never in vain,  \n",
      "His presence a comfort, a calming balm,  \n",
      "In his embrace, I find true calm.  \n",
      "\n",
      "In his playful leaps and joyful barks,  \n",
      "I see the light amidst the dark,  \n",
      "\n"
     ]
    }
   ],
   "source": [
    "print(chat_completion.choices[0].message.content)"
   ]
  },
  {
   "cell_type": "code",
   "execution_count": 11,
   "id": "5e79fa58-fd8a-4b0d-9397-bea14769dee2",
   "metadata": {},
   "outputs": [
    {
     "name": "stdout",
     "output_type": "stream",
     "text": [
      "ChatCompletion(id='chatcmpl-9Uw9mlPkv89L0K3o4q6mMZiv3Ruse', choices=[Choice(finish_reason='length', index=0, logprobs=None, message=ChatCompletionMessage(content='In a world of chaos and noise,  \\nThere stands a loyal friend of poise,  \\nWith a wagging tail and eyes aglow,  \\nMy faithful companion, dear old Joe.  \\n\\nThrough days of sun and nights of rain,  \\nHe never falters, never in vain,  \\nHis presence a comfort, a calming balm,  \\nIn his embrace, I find true calm.  \\n\\nIn his playful leaps and joyful barks,  \\nI see the light amidst the dark,  \\n', role='assistant', function_call=None, tool_calls=None))], created=1717160422, model='gpt-3.5-turbo-0125', object='chat.completion', system_fingerprint=None, usage=CompletionUsage(completion_tokens=100, prompt_tokens=27, total_tokens=127))\n"
     ]
    }
   ],
   "source": [
    "print(chat_completion)"
   ]
  },
  {
   "cell_type": "code",
   "execution_count": 18,
   "id": "0ba83a17-b6b5-4d31-a023-cf61248cf5b3",
   "metadata": {},
   "outputs": [],
   "source": [
    "chat_completion2 = client.chat.completions.create(\n",
    "    messages=[\n",
    "        {\n",
    "            \"role\": \"system\",\n",
    "            \"content\": \"You are an expert in British literature.\",\n",
    "        },\n",
    "        {\n",
    "            \"role\": \"user\",\n",
    "            \"content\": \"List William Shakespear's top 5 plays.\",\n",
    "        }\n",
    "    ],\n",
    "    model=\"gpt-3.5-turbo\",\n",
    "    stop = [\"6.\", \"Lear\"]\n",
    ")"
   ]
  },
  {
   "cell_type": "code",
   "execution_count": 19,
   "id": "c3a0af65-964e-458f-9fe7-3ce4d3915066",
   "metadata": {},
   "outputs": [
    {
     "data": {
      "text/plain": [
       "ChatCompletion(id='chatcmpl-9UwImEzPh4qLg5rkT5aK3HuI2FU2t', choices=[Choice(finish_reason='stop', index=0, logprobs=None, message=ChatCompletionMessage(content='William Shakespeare is known for writing many famous plays, but here are five of his most well-regarded works:\\n\\n1. Hamlet\\n2. Macbeth\\n3. Romeo and Juliet\\n4. Othello\\n5. King ', role='assistant', function_call=None, tool_calls=None))], created=1717160980, model='gpt-3.5-turbo-0125', object='chat.completion', system_fingerprint=None, usage=CompletionUsage(completion_tokens=48, prompt_tokens=30, total_tokens=78))"
      ]
     },
     "execution_count": 19,
     "metadata": {},
     "output_type": "execute_result"
    }
   ],
   "source": [
    "chat_completion2"
   ]
  },
  {
   "cell_type": "code",
   "execution_count": 20,
   "id": "73807e7d-9222-4db4-986b-d991c65d219e",
   "metadata": {},
   "outputs": [
    {
     "name": "stdout",
     "output_type": "stream",
     "text": [
      "William Shakespeare is known for writing many famous plays, but here are five of his most well-regarded works:\n",
      "\n",
      "1. Hamlet\n",
      "2. Macbeth\n",
      "3. Romeo and Juliet\n",
      "4. Othello\n",
      "5. King \n"
     ]
    }
   ],
   "source": [
    "print(chat_completion2.choices[0].message.content)"
   ]
  },
  {
   "cell_type": "code",
   "execution_count": 54,
   "id": "62840d82-5304-4778-ab3a-22ab83924a17",
   "metadata": {},
   "outputs": [],
   "source": [
    "chat_completion3 = client.chat.completions.create(\n",
    "    messages=[\n",
    "        {\n",
    "            \"role\": \"system\",\n",
    "            \"content\": \"You are an expert in social media.\",\n",
    "        },\n",
    "        {\n",
    "            \"role\": \"user\",\n",
    "            \"content\": \"Create a funny tweet.\",\n",
    "        }\n",
    "    ],\n",
    "    model=\"gpt-3.5-turbo\",\n",
    "    n=3,\n",
    "    max_tokens = 100,\n",
    "    temperature=0.8\n",
    ")"
   ]
  },
  {
   "cell_type": "code",
   "execution_count": 55,
   "id": "e9e9696b-159c-44ea-83b1-7d617d62e9a7",
   "metadata": {},
   "outputs": [
    {
     "name": "stdout",
     "output_type": "stream",
     "text": [
      "\"Why did the smartphone go to therapy? It had too many issues with its attachments! 📱😂 #TechHumor #FridayFunny\"\n"
     ]
    }
   ],
   "source": [
    "print(chat_completion3.choices[0].message.content)"
   ]
  },
  {
   "cell_type": "code",
   "execution_count": 52,
   "id": "e549f796-f1ab-44e6-9a8f-d2306c628749",
   "metadata": {
    "scrolled": true
   },
   "outputs": [
    {
     "name": "stdout",
     "output_type": "stream",
     "text": [
      "ChatCompletion(id='chatcmpl-9UwjuOZKaXU5I9vrw4IiXFDw3QmiG', choices=[Choice(finish_reason='stop', index=0, logprobs=None, message=ChatCompletionMessage(content='\"Why did the social media platform go to therapy? It had too many issues to post about! 🤣 #TechHumor\"', role='assistant', function_call=None, tool_calls=None)), Choice(finish_reason='stop', index=1, logprobs=None, message=ChatCompletionMessage(content='\"Just dropped my phone on my face while scrolling through Twitter in bed. Guess you could say I\\'m really in touch with the latest trends. #PhoneFacePlant 🤳😂\"', role='assistant', function_call=None, tool_calls=None)), Choice(finish_reason='stop', index=2, logprobs=None, message=ChatCompletionMessage(content='\"Just spent 20 minutes looking for my phone while talking on it. Clearly, multitasking is not my strong suit 🤦\\u200d♂️ #LostAndFoundButNotReally\"', role='assistant', function_call=None, tool_calls=None))], created=1717162662, model='gpt-3.5-turbo-0125', object='chat.completion', system_fingerprint=None, usage=CompletionUsage(completion_tokens=104, prompt_tokens=24, total_tokens=128))\n"
     ]
    }
   ],
   "source": [
    "print(chat_completion3)"
   ]
  },
  {
   "cell_type": "code",
   "execution_count": 56,
   "id": "f7a8042c-3a98-44fd-97a1-7ec64b41ffe0",
   "metadata": {
    "scrolled": true
   },
   "outputs": [
    {
     "name": "stdout",
     "output_type": "stream",
     "text": [
      "0 stop >>> \"Why did the smartphone go to therapy? It had too many issues with its attachments! 📱😂 #TechHumor #FridayFunny\"\n",
      "1 stop >>> \"Accidentally wore my slippers to work today, but hey, at least my feet are cozy in this meeting! #FashionFail #ComfortFirst\"\n",
      "2 stop >>> \"Just realized my phone battery lasts longer than some of my relationships. Guess I need to start charging my love life too. 🔌💔 #SingleLife #PhoneLife\"\n"
     ]
    }
   ],
   "source": [
    "for choice in chat_completion3.choices:\n",
    "    print(str(choice.index)+\" \"+choice.finish_reason+\" >>> \"+choice.message.content);"
   ]
  }
 ],
 "metadata": {
  "kernelspec": {
   "display_name": "Python 3 (ipykernel)",
   "language": "python",
   "name": "python3"
  },
  "language_info": {
   "codemirror_mode": {
    "name": "ipython",
    "version": 3
   },
   "file_extension": ".py",
   "mimetype": "text/x-python",
   "name": "python",
   "nbconvert_exporter": "python",
   "pygments_lexer": "ipython3",
   "version": "3.12.3"
  }
 },
 "nbformat": 4,
 "nbformat_minor": 5
}
