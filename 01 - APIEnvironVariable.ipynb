{
 "cells": [
  {
   "cell_type": "code",
   "execution_count": 2,
   "id": "6426f0ec-b434-44e6-9e8f-de0d1085a535",
   "metadata": {},
   "outputs": [],
   "source": [
    "import openai\n",
    "import os"
   ]
  },
  {
   "cell_type": "code",
   "execution_count": 3,
   "id": "9f08448a-bd6b-4ac3-85b4-30a62815b3e9",
   "metadata": {},
   "outputs": [],
   "source": [
    "os.environ['OPEN_AI_API_KEY']='JUSTAKEY'"
   ]
  },
  {
   "cell_type": "code",
   "execution_count": 4,
   "id": "73584231-c812-4584-95ee-059b5519d388",
   "metadata": {},
   "outputs": [],
   "source": [
    "openai.api_key = os.getenv('OPEN_AI_API_KEY')"
   ]
  },
  {
   "cell_type": "code",
   "execution_count": 5,
   "id": "e0c5ccae-58f8-4b55-b5e6-7ae41fc0a148",
   "metadata": {},
   "outputs": [
    {
     "data": {
      "text/plain": [
       "'JUSTAKEY'"
      ]
     },
     "execution_count": 5,
     "metadata": {},
     "output_type": "execute_result"
    }
   ],
   "source": [
    "openai.api_key"
   ]
  }
 ],
 "metadata": {
  "kernelspec": {
   "display_name": "Python 3 (ipykernel)",
   "language": "python",
   "name": "python3"
  },
  "language_info": {
   "codemirror_mode": {
    "name": "ipython",
    "version": 3
   },
   "file_extension": ".py",
   "mimetype": "text/x-python",
   "name": "python",
   "nbconvert_exporter": "python",
   "pygments_lexer": "ipython3",
   "version": "3.12.3"
  }
 },
 "nbformat": 4,
 "nbformat_minor": 5
}
