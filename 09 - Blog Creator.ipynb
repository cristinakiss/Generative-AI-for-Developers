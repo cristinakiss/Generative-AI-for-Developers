{
 "cells": [
  {
   "cell_type": "code",
   "execution_count": 2,
   "id": "f7a3d94e-45f0-4228-b631-1820c41fa797",
   "metadata": {},
   "outputs": [],
   "source": [
    "import openai\n",
    "import os\n",
    "from dotenv import dotenv_values, load_dotenv\n",
    "load_dotenv()\n",
    "openai.api_key = os.getenv('OPEN_AI_API_KEY')"
   ]
  },
  {
   "cell_type": "code",
   "execution_count": 4,
   "id": "4619892f-74d7-49a7-ad99-f893dcafaaa8",
   "metadata": {},
   "outputs": [],
   "source": [
    "client = openai.OpenAI(\n",
    "    api_key=openai.api_key,\n",
    ")"
   ]
  },
  {
   "cell_type": "code",
   "execution_count": 5,
   "id": "fd5f983c-d802-40d8-94bf-117941f88305",
   "metadata": {},
   "outputs": [],
   "source": [
    "def create_blog_post(topic, length=300):\n",
    "\n",
    "    prompt = f''' \n",
    "    \n",
    "    Write a blog about {topic}. \n",
    "    \n",
    "    \n",
    "    ''' \n",
    "\n",
    "    response = client.chat.completions.create(\n",
    "        model=\"gpt-3.5-turbo\",\n",
    "        messages=[\n",
    "            {\"role\": \"system\", \"content\": \"You are an expert blog writer\",\n",
    "            \"role\": \"user\", \"content\": prompt},\n",
    "        ],\n",
    "        max_tokens=length\n",
    "    )\n",
    "    \n",
    "    return response.choices[0].message.content"
   ]
  },
  {
   "cell_type": "code",
   "execution_count": 6,
   "id": "2377c9f2-1337-43a0-9e54-1df84014b59a",
   "metadata": {},
   "outputs": [
    {
     "name": "stdout",
     "output_type": "stream",
     "text": [
      "Welcome to the Blog Creator!\n",
      "\n"
     ]
    },
    {
     "name": "stdin",
     "output_type": "stream",
     "text": [
      "Enter a topic for the blog:  generative AI\n",
      "Enter the maximum length:  100\n"
     ]
    }
   ],
   "source": [
    "print(\"Welcome to the Blog Creator!\\n\")\n",
    "\n",
    "topic = input(\"Enter a topic for the blog: \")\n",
    "length = int(input(\"Enter the maximum length: \"))"
   ]
  },
  {
   "cell_type": "code",
   "execution_count": 7,
   "id": "e2baf09b-68f8-47a9-8feb-fd574e46ff27",
   "metadata": {},
   "outputs": [
    {
     "name": "stdout",
     "output_type": "stream",
     "text": [
      "Generative AI: Unlocking the Power of Creativity \n",
      "\n",
      "Artificial intelligence has evolved tremendously over the years, transforming the way we live, work, and interact with technology. One of the most fascinating developments in the field of AI is generative AI, a technology that has the power to create, innovate, and inspire like never before.\n",
      "\n",
      "Generative AI is a subset of artificial intelligence that focuses on creating novel, unique content. This content can range from images and music to text and even entire virtual\n"
     ]
    }
   ],
   "source": [
    "blog_text = create_blog_post(topic, length)\n",
    "\n",
    "print(blog_text)"
   ]
  },
  {
   "cell_type": "code",
   "execution_count": 12,
   "id": "7ecdffb2-ff89-4937-843a-55703997e0a6",
   "metadata": {},
   "outputs": [],
   "source": [
    "def create_blog_post(topic, length=300):\n",
    "\n",
    "    prompt = f''' \n",
    "    \n",
    "    Write a blog about {topic}. Limit it to no more than {length} words.\n",
    "    Create an interesting title for the blog.  Also, translate the title and blog the\n",
    "    into HTML.\n",
    "    \n",
    "    Use the following format for the blog:\n",
    "\n",
    "    Title: <title of the blog>\n",
    "    Blog: <the text of the blog>\n",
    "    HTML version: <HTML of the title and blog text>\n",
    "    \n",
    "    ''' \n",
    "\n",
    "    response = client.chat.completions.create(\n",
    "        model=\"gpt-3.5-turbo\",\n",
    "        messages=[\n",
    "            {\"role\": \"system\", \"content\": \"You are an expert blog writer\",\n",
    "            \"role\": \"user\", \"content\": prompt},\n",
    "        ]\n",
    "    )\n",
    "    \n",
    "    return response.choices[0].message.content"
   ]
  },
  {
   "cell_type": "code",
   "execution_count": 13,
   "id": "9a051abd-2c85-4119-8479-87594e7b1c38",
   "metadata": {},
   "outputs": [
    {
     "name": "stdout",
     "output_type": "stream",
     "text": [
      "Title: Exploring the Creative Power of Generative AI\n",
      "\n",
      "Blog: Generative AI is revolutionizing the way we create art, music, and more by using algorithms to generate original content. From generating realistic images to composing music, these systems can produce endless variations of creative outputs. By harnessing the power of machine learning, generative AI opens up a world of possibilities for creativity and innovation.\n",
      "\n",
      "HTML version: \n",
      "<html>\n",
      "<head>\n",
      "<title>Exploring the Creative Power of Generative AI</title>\n",
      "</head>\n",
      "<body>\n",
      "<p>Generative AI is revolutionizing the way we create art, music, and more by using algorithms to generate original content. From generating realistic images to composing music, these systems can produce endless variations of creative outputs. By harnessing the power of machine learning, generative AI opens up a world of possibilities for creativity and innovation.</p>\n",
      "</body>\n",
      "</html>\n"
     ]
    }
   ],
   "source": [
    "blog_text = create_blog_post(topic, length)\n",
    "\n",
    "print(blog_text)"
   ]
  },
  {
   "cell_type": "code",
   "execution_count": 14,
   "id": "06e3f250-7dc1-4b4b-8934-3e0bd311a73c",
   "metadata": {},
   "outputs": [
    {
     "name": "stdin",
     "output_type": "stream",
     "text": [
      "Enter a topic for the blog:  generative AI\n",
      "Enter the maximum length:  400\n",
      "Enter the tone: 1=funny, 2=serious, 3=neutral 1\n"
     ]
    }
   ],
   "source": [
    "topic = input(\"Enter a topic for the blog: \")\n",
    "length = int(input(\"Enter the maximum length: \"))\n",
    "tone = int(input(\"Enter the tone: 1=funny, 2=serious, 3=neutral\"))"
   ]
  },
  {
   "cell_type": "code",
   "execution_count": 15,
   "id": "507199ac-549b-4c92-bbac-f234c8a33020",
   "metadata": {},
   "outputs": [],
   "source": [
    "def create_blog_post(topic, length=300, tone=1):\n",
    "\n",
    "    if tone == 1:\n",
    "        tone_description = 'funny'\n",
    "    elif tone == 2:\n",
    "        tone_description = 'serious'\n",
    "    else:\n",
    "        tone_description = 'neutral'\n",
    "\n",
    "    prompt = f''' \n",
    "    \n",
    "    Write a blog about {topic}. Limit it to no more than {length} words.\n",
    "    The tone is {tone_description}.\n",
    "    Create an interesting title for the blog.  Also, translate the title and blog the\n",
    "    into HTML.\n",
    "    \n",
    "    Use the following format for the blog:\n",
    "\n",
    "    Title: <title of the blog>\n",
    "    Blog: <the text of the blog>\n",
    "    HTML version: <HTML of the title and blog text>\n",
    "    \n",
    "    ''' \n",
    "\n",
    "    response = client.chat.completions.create(\n",
    "        model=\"gpt-3.5-turbo\",\n",
    "        messages=[\n",
    "            {\"role\": \"system\", \"content\": \"You are an expert blog writer\",\n",
    "            \"role\": \"user\", \"content\": prompt},\n",
    "        ]\n",
    "    )\n",
    "    \n",
    "    return response.choices[0].message.content"
   ]
  },
  {
   "cell_type": "code",
   "execution_count": 17,
   "id": "4cb3f92e-ef5c-412d-8c06-ced2a05a357d",
   "metadata": {},
   "outputs": [
    {
     "name": "stdout",
     "output_type": "stream",
     "text": [
      "Title: The Hilarious World of Generative AI\n",
      "\n",
      "Blog: Have you ever wondered what would happen if a computer tried to imitate human creativity and humor? Well, wonder no more because generative AI is here to both amaze and entertain you! This technology uses algorithms to create content like music, art, and even jokes, often with unexpected and hilarious results.\n",
      "\n",
      "Picture this: a computer attempting to write a stand-up comedy routine. The punchlines may not always hit the mark, but the sheer absurdity of the jokes will have you in stitches. From nonsensical one-liners to puns that make you groan, generative AI is a treasure trove of comedic gold.\n",
      "\n",
      "And let's not forget about the music. Imagine a symphony composed entirely by a computer algorithm. The result? Possibly a masterpiece or maybe just a cacophony of random noises. Either way, it's a fascinating glimpse into the intersection of technology and creativity.\n",
      "\n",
      "But perhaps the most entertaining aspect of generative AI is its ability to generate art. From surreal landscapes to abstract portraits, AI-generated artwork can be both mesmerizing and perplexing. Who knew a computer could have such a unique perspective on the world?\n",
      "\n",
      "So, if you're in need of a good laugh or just want to witness the strange and wonderful creations of artificial intelligence, look no further than generative AI. Who knows, you might just discover the next big comedian, musician, or artist – all thanks to a few lines of code.\n",
      "\n",
      "HTML version:\n",
      "<html>\n",
      "<head>\n",
      "<title>The Hilarious World of Generative AI</title>\n",
      "</head>\n",
      "<body>\n",
      "<h1>The Hilarious World of Generative AI</h1>\n",
      "<p>Have you ever wondered what would happen if a computer tried to imitate human creativity and humor? Well, wonder no more because generative AI is here to both amaze and entertain you! This technology uses algorithms to create content like music, art, and even jokes, often with unexpected and hilarious results.</p>\n",
      "<p>Picture this: a computer attempting to write a stand-up comedy routine. The punchlines may not always hit the mark, but the sheer absurdity of the jokes will have you in stitches. From nonsensical one-liners to puns that make you groan, generative AI is a treasure trove of comedic gold.</p>\n",
      "<p>And let's not forget about the music. Imagine a symphony composed entirely by a computer algorithm. The result? Possibly a masterpiece or maybe just a cacophony of random noises. Either way, it's a fascinating glimpse into the intersection of technology and creativity.</p>\n",
      "<p>But perhaps the most entertaining aspect of generative AI is its ability to generate art. From surreal landscapes to abstract portraits, AI-generated artwork can be both mesmerizing and perplexing. Who knew a computer could have such a unique perspective on the world?</p>\n",
      "<p>So, if you're in need of a good laugh or just want to witness the strange and wonderful creations of artificial intelligence, look no further than generative AI. Who knows, you might just discover the next big comedian, musician, or artist – all thanks to a few lines of code.</p>\n",
      "</body>\n",
      "</html>\n"
     ]
    }
   ],
   "source": [
    "blog_text = create_blog_post(topic, length)\n",
    "\n",
    "print(blog_text)"
   ]
  }
 ],
 "metadata": {
  "kernelspec": {
   "display_name": "Python 3 (ipykernel)",
   "language": "python",
   "name": "python3"
  },
  "language_info": {
   "codemirror_mode": {
    "name": "ipython",
    "version": 3
   },
   "file_extension": ".py",
   "mimetype": "text/x-python",
   "name": "python",
   "nbconvert_exporter": "python",
   "pygments_lexer": "ipython3",
   "version": "3.12.3"
  }
 },
 "nbformat": 4,
 "nbformat_minor": 5
}
