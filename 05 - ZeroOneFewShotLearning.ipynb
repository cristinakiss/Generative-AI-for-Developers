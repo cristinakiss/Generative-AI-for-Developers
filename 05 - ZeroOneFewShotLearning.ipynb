{
 "cells": [
  {
   "cell_type": "code",
   "execution_count": 3,
   "id": "1874f304-1565-417d-9b7d-b15239e990b5",
   "metadata": {},
   "outputs": [],
   "source": [
    "import openai\n",
    "import os\n",
    "from dotenv import dotenv_values, load_dotenv\n",
    "load_dotenv()\n",
    "openai.api_key = os.getenv('OPEN_AI_API_KEY')"
   ]
  },
  {
   "cell_type": "code",
   "execution_count": 5,
   "id": "61812412-baf2-436b-88b5-1255ebae4b4e",
   "metadata": {},
   "outputs": [],
   "source": [
    "client = openai.OpenAI(\n",
    "    api_key=openai.api_key,\n",
    ")"
   ]
  },
  {
   "cell_type": "code",
   "execution_count": 6,
   "id": "6aaddbbd-b362-4fcb-b350-55a33b217188",
   "metadata": {},
   "outputs": [],
   "source": [
    "chat_completion = client.chat.completions.create(\n",
    "    messages=[\n",
    "        {\n",
    "            \"role\": \"system\",\n",
    "            \"content\": \"You understand English and German.\",\n",
    "        },\n",
    "        {\n",
    "            \"role\": \"user\",\n",
    "            \"content\": \"\"\"\n",
    "\n",
    "Translate the sentence below into German: \\\n",
    "### /\n",
    "Hello, how are you doing today? \\\n",
    "### \\\n",
    "\n",
    "\"\"\"\n",
    "        }\n",
    "    ],\n",
    "    model=\"gpt-3.5-turbo\"\n",
    ")"
   ]
  },
  {
   "cell_type": "code",
   "execution_count": 7,
   "id": "f6fb8fab-4fac-492f-9f88-b98a89c20d44",
   "metadata": {},
   "outputs": [
    {
     "name": "stdout",
     "output_type": "stream",
     "text": [
      "0 stop >>> Hallo, wie geht es dir heute?\n"
     ]
    }
   ],
   "source": [
    "for choice in chat_completion.choices:\n",
    "    print(str(choice.index)+\" \"+choice.finish_reason+\" >>> \"+choice.message.content);"
   ]
  },
  {
   "cell_type": "code",
   "execution_count": 8,
   "id": "dd0f9667-5ba7-4ead-bee4-9a7b636df62c",
   "metadata": {},
   "outputs": [],
   "source": [
    "chat_completion2 = client.chat.completions.create(\n",
    "    messages=[\n",
    "        {\n",
    "            \"role\": \"system\",\n",
    "            \"content\": \"You understand English, German and French.\",\n",
    "        },\n",
    "        {\n",
    "            \"role\": \"user\",\n",
    "            \"content\": \"\"\"\n",
    "\n",
    "Translate the sentence below into German and French: \\\n",
    "### /\n",
    "Hello, how are you doing today? \\\n",
    "### \\\n",
    "\n",
    "\"\"\"\n",
    "        }\n",
    "    ],\n",
    "    model=\"gpt-3.5-turbo\"\n",
    ")"
   ]
  },
  {
   "cell_type": "code",
   "execution_count": 10,
   "id": "90cdd5ec-3303-41c9-8d91-e367d2f66064",
   "metadata": {},
   "outputs": [
    {
     "name": "stdout",
     "output_type": "stream",
     "text": [
      "0 stop >>> - German: Hallo, wie geht es dir heute?\n",
      "- French: Bonjour, comment vas-tu aujourd'hui?\n"
     ]
    }
   ],
   "source": [
    "for choice in chat_completion2.choices:\n",
    "    print(str(choice.index)+\" \"+choice.finish_reason+\" >>> \"+choice.message.content);"
   ]
  },
  {
   "cell_type": "code",
   "execution_count": 17,
   "id": "2c76c9e2-4d91-4389-a553-bec6c3bcf7b7",
   "metadata": {},
   "outputs": [],
   "source": [
    "chat_completion3 = client.chat.completions.create(\n",
    "    messages=[\n",
    "        {\n",
    "            \"role\": \"system\",\n",
    "            \"content\": \"You understand English, German, French, Korean, Japanese and Hungarian.\",\n",
    "        },\n",
    "        {\n",
    "            \"role\": \"user\",\n",
    "            \"content\": \"\"\"\n",
    "\n",
    "Translate the sentence below into German,French, Korean, Japanese and Hungarian: \\\n",
    "### /\n",
    "English:  The car is blue. \\\n",
    "German:  Das Auto ist blau. \\\n",
    "English:  The smartphone is expensive. \\\n",
    "German: \\\n",
    "### \\\n",
    "\n",
    "\"\"\"\n",
    "        }\n",
    "    ],\n",
    "    model=\"gpt-3.5-turbo\"\n",
    ")"
   ]
  },
  {
   "cell_type": "code",
   "execution_count": 18,
   "id": "0cdb6662-3022-477a-9f7c-4a015a72504b",
   "metadata": {},
   "outputs": [
    {
     "name": "stdout",
     "output_type": "stream",
     "text": [
      "0 stop >>> French: La voiture est bleue. German: Das Smartphone ist teuer. Korean: 차는 파란색이에요. Japanese: 車は青いです。 Hungarian: A telefon drága.\n"
     ]
    }
   ],
   "source": [
    "for choice in chat_completion3.choices:\n",
    "    print(str(choice.index)+\" \"+choice.finish_reason+\" >>> \"+choice.message.content);"
   ]
  },
  {
   "cell_type": "code",
   "execution_count": 22,
   "id": "4e147f3e-6ce8-46e1-96e8-781902efce2f",
   "metadata": {},
   "outputs": [],
   "source": [
    "chat_completion4_few_shot = client.chat.completions.create(\n",
    "    messages=[\n",
    "        {\n",
    "            \"role\": \"system\",\n",
    "            \"content\": \"You understand English and German.\",\n",
    "        },\n",
    "        {\n",
    "            \"role\": \"user\",\n",
    "            \"content\": \"\"\"\n",
    "\n",
    "Translate the sentence below into German: \\\n",
    "### /\n",
    "English:  The car is blue. \\\n",
    "German:  Das Auto ist blau. \\\n",
    "English:  The house is large \\\n",
    "German:  das haus ist groß \\\n",
    "English:  The smartphone is expensive. \\\n",
    "German: \\\n",
    "### \\\n",
    "\n",
    "\"\"\"\n",
    "        }\n",
    "    ],\n",
    "    model=\"gpt-3.5-turbo\"\n",
    ")"
   ]
  },
  {
   "cell_type": "code",
   "execution_count": 23,
   "id": "2e00ee6b-278c-48b9-abeb-9c9877dbd95f",
   "metadata": {},
   "outputs": [
    {
     "name": "stdout",
     "output_type": "stream",
     "text": [
      "0 stop >>> Das Smartphone ist teuer.\n"
     ]
    }
   ],
   "source": [
    "for choice in chat_completion4_few_shot.choices:\n",
    "    print(str(choice.index)+\" \"+choice.finish_reason+\" >>> \"+choice.message.content);"
   ]
  },
  {
   "cell_type": "code",
   "execution_count": 24,
   "id": "ff4878ca-0366-4251-a905-754b1d2f973f",
   "metadata": {},
   "outputs": [],
   "source": [
    "chat_completion_few_shot_roles = client.chat.completions.create(\n",
    "    messages=[\n",
    "{\"role\": \"system\", \"content\": \"You understand Enligh and German.\"},\n",
    "{\"role\": \"user\", \"content\": \"English:  The car is blue.\"},\n",
    "{\"role\": \"assistant\", \"content\": \"German:  Das Auto ist blau.\"},\n",
    "{\"role\": \"user\", \"content\": \"English:  The smartphone is expensive.\"}\n",
    "    ],\n",
    "    model=\"gpt-3.5-turbo\"\n",
    ")"
   ]
  },
  {
   "cell_type": "code",
   "execution_count": 25,
   "id": "259cb179-dc35-46cb-b6a5-ce55493e4d29",
   "metadata": {},
   "outputs": [
    {
     "name": "stdout",
     "output_type": "stream",
     "text": [
      "0 stop >>> German:  Das Smartphone ist teuer.\n"
     ]
    }
   ],
   "source": [
    "for choice in chat_completion_few_shot_roles.choices:\n",
    "    print(str(choice.index)+\" \"+choice.finish_reason+\" >>> \"+choice.message.content);"
   ]
  },
  {
   "cell_type": "code",
   "execution_count": 26,
   "id": "e56530cc-e349-4bd3-851f-61f7d513b79b",
   "metadata": {},
   "outputs": [
    {
     "name": "stdout",
     "output_type": "stream",
     "text": [
      "ChatCompletion(id='chatcmpl-9Uy2CvidFwp1VxMxXYKPKajbWLeXK', choices=[Choice(finish_reason='stop', index=0, logprobs=None, message=ChatCompletionMessage(content='German:  Das Smartphone ist teuer.', role='assistant', function_call=None, tool_calls=None))], created=1717167640, model='gpt-3.5-turbo-0125', object='chat.completion', system_fingerprint=None, usage=CompletionUsage(completion_tokens=9, prompt_tokens=52, total_tokens=61))\n"
     ]
    }
   ],
   "source": [
    "print(chat_completion_few_shot_roles)"
   ]
  }
 ],
 "metadata": {
  "kernelspec": {
   "display_name": "Python 3 (ipykernel)",
   "language": "python",
   "name": "python3"
  },
  "language_info": {
   "codemirror_mode": {
    "name": "ipython",
    "version": 3
   },
   "file_extension": ".py",
   "mimetype": "text/x-python",
   "name": "python",
   "nbconvert_exporter": "python",
   "pygments_lexer": "ipython3",
   "version": "3.12.3"
  }
 },
 "nbformat": 4,
 "nbformat_minor": 5
}
