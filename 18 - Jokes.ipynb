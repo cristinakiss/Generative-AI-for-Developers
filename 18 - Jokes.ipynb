{
 "cells": [
  {
   "cell_type": "code",
   "execution_count": 2,
   "id": "5aad089b-8a49-418e-a3ba-08cf4b7071c2",
   "metadata": {},
   "outputs": [],
   "source": [
    "import requests"
   ]
  },
  {
   "cell_type": "code",
   "execution_count": 7,
   "id": "6ae133f4-db77-456e-b7c2-f6eb11cd5992",
   "metadata": {},
   "outputs": [
    {
     "name": "stdout",
     "output_type": "stream",
     "text": [
      "Chuck Norris CAN fit a square peg in a round hole.\n"
     ]
    }
   ],
   "source": [
    "url = \"https://api.chucknorris.io/jokes/random\"\n",
    "params = {\"limitTo\": \"[nerdy]\"}\n",
    "response = requests.get(url, params)\n",
    "joke = response.json()[\"value\"]\n",
    "print(joke)"
   ]
  }
 ],
 "metadata": {
  "kernelspec": {
   "display_name": "Python 3 (ipykernel)",
   "language": "python",
   "name": "python3"
  },
  "language_info": {
   "codemirror_mode": {
    "name": "ipython",
    "version": 3
   },
   "file_extension": ".py",
   "mimetype": "text/x-python",
   "name": "python",
   "nbconvert_exporter": "python",
   "pygments_lexer": "ipython3",
   "version": "3.12.3"
  }
 },
 "nbformat": 4,
 "nbformat_minor": 5
}
