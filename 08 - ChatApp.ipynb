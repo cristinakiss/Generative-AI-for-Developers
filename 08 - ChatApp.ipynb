{
 "cells": [
  {
   "cell_type": "code",
   "execution_count": 1,
   "id": "de865963-9cde-47ea-aa08-5f82bf6c50eb",
   "metadata": {},
   "outputs": [],
   "source": [
    "import openai\n",
    "import os\n",
    "from dotenv import dotenv_values, load_dotenv\n",
    "load_dotenv()\n",
    "openai.api_key = os.getenv('OPEN_AI_API_KEY')"
   ]
  },
  {
   "cell_type": "code",
   "execution_count": 3,
   "id": "6e62a98b-aeec-4dab-b6a8-926a179d2a1d",
   "metadata": {},
   "outputs": [],
   "source": [
    "client = openai.OpenAI(\n",
    "    api_key=openai.api_key,\n",
    ")"
   ]
  },
  {
   "cell_type": "code",
   "execution_count": 8,
   "id": "75e284a2-6127-4642-99fe-581abf10b3b3",
   "metadata": {},
   "outputs": [
    {
     "name": "stdout",
     "output_type": "stream",
     "text": [
      "This is your virtual assistant, Ada.  How can I help?\n",
      "\n",
      "Type 'exit' to end the chat.\n",
      "\n"
     ]
    },
    {
     "name": "stdin",
     "output_type": "stream",
     "text": [
      "You:  What is AI?\n"
     ]
    },
    {
     "name": "stdout",
     "output_type": "stream",
     "text": [
      "Ada: AI stands for artificial intelligence, which refers to machines performing tasks that typically require human intelligence.\n",
      "[{'role': 'system', 'content': 'You are a personal assistant. Your tone is helpful. The response must be consice and not exceed one sentence'}, {'role': 'user', 'content': 'What is AI?'}]\n"
     ]
    },
    {
     "name": "stdin",
     "output_type": "stream",
     "text": [
      "You:  What is it used for?\n"
     ]
    },
    {
     "name": "stdout",
     "output_type": "stream",
     "text": [
      "Ada: Artificial intelligence is used for a variety of tasks, such as data analysis, decision-making, speech recognition, and automation.\n",
      "[{'role': 'system', 'content': 'You are a personal assistant. Your tone is helpful. The response must be consice and not exceed one sentence'}, {'role': 'user', 'content': 'What is AI?'}, {'role': 'user', 'content': 'What is it used for?'}]\n"
     ]
    },
    {
     "name": "stdin",
     "output_type": "stream",
     "text": [
      "You:  exit\n"
     ]
    },
    {
     "name": "stdout",
     "output_type": "stream",
     "text": [
      "Ada: Goodbye!\n",
      "[{'role': 'system', 'content': 'You are a personal assistant. Your tone is helpful. The response must be consice and not exceed one sentence'}, {'role': 'user', 'content': 'What is AI?'}, {'role': 'user', 'content': 'What is it used for?'}, {'role': 'user', 'content': 'exit'}]\n"
     ]
    }
   ],
   "source": [
    "def chat_system(messages):\n",
    "    response = client.chat.completions.create(\n",
    "        model=\"gpt-3.5-turbo\",\n",
    "        messages=messages\n",
    "    )\n",
    "    return response.choices[0].message.content\n",
    "\n",
    "print(\"This is your virtual assistant, Ada.  How can I help?\\n\")\n",
    "print(\"Type 'exit' to end the chat.\\n\")\n",
    "\n",
    "message_history = []\n",
    "message_history.append({\n",
    "    'role': 'system', 'content': 'You are a personal assistant. Your tone is helpful. The response must be consice and not exceed one sentence'\n",
    "})\n",
    "user_input = ''\n",
    "\n",
    "while user_input != 'exit':\n",
    "    user_input = input(\"You: \")\n",
    "    message_history.append({\"role\": \"user\", \"content\": user_input})\n",
    "    response = chat_system(message_history)\n",
    "    print(\"Ada:\", response)\n",
    "    print(message_history)"
   ]
  }
 ],
 "metadata": {
  "kernelspec": {
   "display_name": "Python 3 (ipykernel)",
   "language": "python",
   "name": "python3"
  },
  "language_info": {
   "codemirror_mode": {
    "name": "ipython",
    "version": 3
   },
   "file_extension": ".py",
   "mimetype": "text/x-python",
   "name": "python",
   "nbconvert_exporter": "python",
   "pygments_lexer": "ipython3",
   "version": "3.12.3"
  }
 },
 "nbformat": 4,
 "nbformat_minor": 5
}
