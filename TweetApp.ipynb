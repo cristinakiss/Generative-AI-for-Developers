{
 "cells": [
  {
   "cell_type": "code",
   "execution_count": 1,
   "id": "0cc4a1d1-f818-45e6-af5c-80f99120a286",
   "metadata": {},
   "outputs": [],
   "source": [
    "import openai\n",
    "import os\n",
    "from dotenv import dotenv_values, load_dotenv\n",
    "load_dotenv()\n",
    "openai.api_key = os.getenv('OPEN_AI_API_KEY')"
   ]
  },
  {
   "cell_type": "code",
   "execution_count": 3,
   "id": "02d3d821-0938-443c-805f-561ab0651d72",
   "metadata": {},
   "outputs": [],
   "source": [
    "client = openai.OpenAI(\n",
    "    api_key=openai.api_key,\n",
    ")"
   ]
  },
  {
   "cell_type": "code",
   "execution_count": 8,
   "id": "3b7d5c97-c123-4230-93ea-fcec5e6c6efe",
   "metadata": {},
   "outputs": [
    {
     "name": "stdin",
     "output_type": "stream",
     "text": [
      "Enter a color:  purple\n"
     ]
    },
    {
     "name": "stdout",
     "output_type": "stream",
     "text": [
      "Generated tweet: Purple is the color of royalty, creativity, and mystery. It's the perfect hue to add a touch of sophistication to any outfit or decor. 💜 #purplepower\n"
     ]
    }
   ],
   "source": [
    "def create_interesting_tweet(color):\n",
    "    prompt = f\"Generate an interesting tweet about the color {color}.\"\n",
    "    response = client.chat.completions.create(\n",
    "       model=\"gpt-3.5-turbo\",\n",
    "        messages=[\n",
    "            {\"role\": \"system\", \"content\": \"You are an expert in social media\",\n",
    "            \"role\": \"user\", \"content\": prompt},\n",
    "        ],\n",
    "        max_tokens=100,\n",
    "        temperature=0.7,\n",
    "        n=1,\n",
    "        stop=None\n",
    "    )\n",
    "    tweet = response.choices[0].message.content.strip()\n",
    "    return tweet\n",
    "\n",
    "# Get the color input from the user\n",
    "color = input(\"Enter a color: \")\n",
    "\n",
    "# Generate an interesting tweet based on the color\n",
    "tweet = create_interesting_tweet(color)\n",
    "\n",
    "# Display the generated tweet\n",
    "print(f\"Generated tweet: {tweet}\")"
   ]
  }
 ],
 "metadata": {
  "kernelspec": {
   "display_name": "Python 3 (ipykernel)",
   "language": "python",
   "name": "python3"
  },
  "language_info": {
   "codemirror_mode": {
    "name": "ipython",
    "version": 3
   },
   "file_extension": ".py",
   "mimetype": "text/x-python",
   "name": "python",
   "nbconvert_exporter": "python",
   "pygments_lexer": "ipython3",
   "version": "3.12.3"
  }
 },
 "nbformat": 4,
 "nbformat_minor": 5
}
